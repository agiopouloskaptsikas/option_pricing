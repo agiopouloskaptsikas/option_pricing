{
 "cells": [
  {
   "attachments": {},
   "cell_type": "markdown",
   "metadata": {},
   "source": [
    "---\n",
    "---\n",
    "\n",
    "**Quantitative Finance and Financial Risk**\\\n",
    "**Project Title: Pricing an American Straddle**\n",
    "\n",
    "Athens University of Economics and Business\\\n",
    "School of Information Sciences and Technology\\\n",
    "M.Sc. in Data Science, Full Time\\\n",
    "Spring Trimester, June, 2023\n",
    "\n",
    "Agiopoulos S. Kaptsikas (f3352208, akaptsikas@aueb.gr)\n",
    "\n",
    "---\n",
    "---"
   ]
  },
  {
   "attachments": {},
   "cell_type": "markdown",
   "metadata": {},
   "source": [
    "# <u><b>Contents</b></u>\n",
    "1. [Description](#1)\n",
    "2. [Pricing an American-style At-The-Money Straddle using Black & Scholes Option Pricing Model](#2)\n",
    "3. [Pricing a European-style At-The-Money Straddle using Black & Scholes Option Pricing Model and Monte-Carlo Simulation](#3)"
   ]
  },
  {
   "attachments": {},
   "cell_type": "markdown",
   "metadata": {},
   "source": [
    "---"
   ]
  },
  {
   "cell_type": "code",
   "execution_count": 1,
   "metadata": {},
   "outputs": [],
   "source": [
    "import numpy as np\n",
    "from typing import Tuple\n",
    "from scipy.stats import norm"
   ]
  },
  {
   "attachments": {},
   "cell_type": "markdown",
   "metadata": {},
   "source": [
    "# <a id='1'>1. <b>Project Description</b></a>"
   ]
  },
  {
   "attachments": {},
   "cell_type": "markdown",
   "metadata": {},
   "source": [
    "<p align=\"justify\">Assume a stock the process of which follows a Geometric Brownian Motion. The current stock price S(0) is equal to $20, with an annual volatility of returns of 35%. If the risk-free rate is equal to 3% and the dividend yield is equal to 1.5%, find the price of an American-style At-The-Money Straddle (Long Put and Long Call), with an expiry of 6 months. Find also the stock (delta) and volatility (vega) sensitivities, with the help of your function. Assuming the same stock price process, but in a Monte-Carlo simulation setup, find the price of the equivalent European-style straddle.</p>"
   ]
  },
  {
   "attachments": {},
   "cell_type": "markdown",
   "metadata": {},
   "source": [
    "* Given the description, above, we can extract useful information that will be used later. That is,\n",
    "\n",
    "    * **Stock Price**: $S_{0}=\\$20$\n",
    "    * **Volatility**: $\\sigma=35\\%$\n",
    "    * **Risk-free Rate**: $r=3\\%$\n",
    "    * **Divident Yield**: $\\delta=1.5\\%$\n",
    "    * **Time to Expiration**: $T=0.5$\n",
    "    * **Strike Price**: $K=\\$20$"
   ]
  },
  {
   "cell_type": "code",
   "execution_count": 2,
   "metadata": {},
   "outputs": [],
   "source": [
    "parameters = {\"S\": 20, \"K\": 20, \"sigma\": .35, \"r\": .03, \"delta\": .015, \"T\": .5}"
   ]
  },
  {
   "attachments": {},
   "cell_type": "markdown",
   "metadata": {},
   "source": [
    "* Two main questions that need to be addressed, can be identified. In particular,\n",
    "    1. What is the price of the American-style At-The-Money Straddle?\n",
    "        * This question is answered in the first part of the notebook.\n",
    "        * The mathematical model considered for answering, both this, and the second question, is the Black & Scholes option pricing model.\n",
    "    2. What is the price of the European-style At-The-Money Straddle?\n",
    "        * This question is answered in the second part of the notebook.\n",
    "        * As prompted, a Monte-Carlo simulation framework is configured to answer this question, again, assuming the Black & Scholes model."
   ]
  },
  {
   "attachments": {},
   "cell_type": "markdown",
   "metadata": {},
   "source": [
    "---"
   ]
  },
  {
   "attachments": {},
   "cell_type": "markdown",
   "metadata": {},
   "source": [
    "# <a id=\"2\">2. <b>Pricing an American-style At-The-Money Straddle using Black & Scholes Option Pricing Model</b></a>"
   ]
  },
  {
   "attachments": {},
   "cell_type": "markdown",
   "metadata": {},
   "source": [
    "* The straddle's price is equal to the price of both a long call and long put option, i.e.,\n",
    "\n",
    "    > $\\textbf{P}(S,K,\\sigma,r,T,\\delta)=C(S,K,\\sigma,r,T,\\delta)+P(S,K,\\sigma,r,T,\\delta) \\textbf{(1)}$\n",
    "    >\n",
    "    > where:\n",
    "    >\n",
    "    > $\\textbf{P}$: Price of the American-style Straddle\\\n",
    "    > $C(S,K,\\sigma,r,T,\\delta)$: Price of the American-style Long Call Option\\\n",
    "    > $P(S,K,\\sigma,r,T,\\delta)$: Price of the American-style Long Put Option\n",
    "    \n",
    "* The prices of the American-style Long Call and Long Put Options, can be found using the Black & Scholes model:\n",
    "\n",
    "    > $C(S,K,\\sigma,r,T,\\delta) = S e^{- \\delta T} N(d_{1}) - K e^{- r T} N(d_{2}) \\textbf{(2)}$\\\n",
    "    > $P(S,K,\\sigma,r,T,\\delta) = K e^{- r T} N(- d_{2}) - S e^{- \\delta T} N(- d_{1}) \\textbf{(3)}$\n",
    "    >\n",
    "    > where:\n",
    "    >\n",
    "    > $N(\\cdot)$: Cumulative standard normal distribution function $ \\textbf{(4)}$\n",
    "    >\n",
    "    > $d_{1} = \\dfrac{ ln\\left(\\dfrac{S}{K}\\right) + \\left(r - \\delta + \\dfrac{\\sigma^{2}}{2} T \\right) }{\\sigma \\sqrt{T}}, \\ d_{2} = d_{1} - \\sigma \\sqrt{T} \\textbf{(5)}$\n",
    "\n",
    "* The stock (delta) and volatility (vega) sensitivities of the American-style Straddle are the following:\n",
    "\n",
    "    > $ \\Delta = N \\left( d_{1} \\right) \\textbf{(6)}$\\\n",
    "    > $v = S N ^ {\\prime} \\left( d_{1} \\right) \\sqrt{T} \\textbf{(7)}$"
   ]
  },
  {
   "attachments": {},
   "cell_type": "markdown",
   "metadata": {},
   "source": [
    "* In the code cell, below, we utilize Eqs. $\\textbf{(1)}$ through $\\textbf{(5)}$, and create a Python function that calculates the price, $\\textbf{P}$, of an American-style straddle, which is associated with the following set of parameters: $\\{S,K,T,r,\\sigma,\\delta\\}$."
   ]
  },
  {
   "cell_type": "code",
   "execution_count": 3,
   "metadata": {},
   "outputs": [],
   "source": [
    "class black_and_scholes:\n",
    "    \"\"\"class created for pricing an american straddle\"\"\"\n",
    "\n",
    "    def __init__(self, **kwargs) -> None:\n",
    "        \"\"\"initialization. configuring parameters.\"\"\"\n",
    "\n",
    "        self.parameters                 = kwargs                                # save given parameters\n",
    "\n",
    "        self.S                          = kwargs[\"S\"]                           # current stock price\n",
    "        self.K                          = kwargs[\"K\"]                           # strike price\n",
    "        self.T                          = kwargs[\"T\"]                           # expiration\n",
    "        self.r                          = kwargs[\"r\"]                           # risk free rate\n",
    "        self.sigma                      = kwargs[\"sigma\"]                       # volatility\n",
    "        self.delta                      = kwargs[\"delta\"]                       # divident yield\n",
    "\n",
    "        self.d1, self.d2                = self.calculate_d1_and_d2()            # d1 and d2\n",
    "        self.Nd1, self.Nd2              = norm.cdf(self.d1), norm.cdf(self.d2)  # N(d1) and N(d2): standard normal cumulative density function\n",
    "        self.Nminusd1, self.Nminusd2    = (1 - self.Nd1), (1 - self.Nd2)        # N(-d1) and N(-d2)\n",
    "        self.Nprimed1                   = norm.pdf(self.d1)                     # N'(d1): standard normal probability density function\n",
    "\n",
    "        self.Delta                      = self.Nd1                              # stock sensitivity\n",
    "        self.vega                       = self.S * self.Nprimed1                # volatility sensitivity\n",
    "\n",
    "        self.C                          = self.calculate_call_option_price()    # call option price\n",
    "        self.P                          = self.calculate_put_option_price()     # put option price\n",
    "\n",
    "        self.straddle_price             = self.C + self.P                       # straddle price\n",
    "\n",
    "        print(f\"\"\"\n",
    "      \n",
    "                SUMMARY OF RESULTS\n",
    "                    \n",
    "                at-the-money, american-style, straddle\n",
    "                    \n",
    "                    I.      parameters:\n",
    "                    \n",
    "                            1.  S                   = {self.S},\n",
    "                            2.  K                   = {self.K},\n",
    "                            3.  sigma               = {self.sigma},\n",
    "                            4.  r                   = {self.r},\n",
    "                            5.  delta               = {self.delta},\n",
    "                            6.  T                   = {self.T}\n",
    "\n",
    "                    II.     prices:\n",
    "                    \n",
    "                            1.  straddle            = {self.straddle_price}\n",
    "                            2.  call                = {self.C}\n",
    "                            3.  put                 = {self.P}\n",
    "\n",
    "                    III.    sensitivities:\n",
    "\n",
    "                            1.  stock (delta)       = {self.Delta}\n",
    "                            2.  volatility (vega)   = {self.vega}\n",
    "\n",
    "            \"\"\")\n",
    "\n",
    "    def calculate_d1_and_d2(self, N = False) -> Tuple[float, float]:\n",
    "        \"\"\"method for calculating d1 and d2. see eq. (5), in section 2, for the details of calculation.\"\"\"\n",
    "\n",
    "        d1 = (np.log(self.S / self.K) + (self.r - self.delta + (((self.sigma ** 2) *.5) * self.T))) / (self.sigma * np.sqrt(self.T))\n",
    "        d2 = d1 - (self.sigma * np.sqrt(self.T))\n",
    "\n",
    "        return d1, d2\n",
    "        \n",
    "    def calculate_call_option_price(self) -> float:\n",
    "        \"\"\"method for calculating the price of the call option. see eq. (2), in section 2, for the details of calculation.\"\"\"\n",
    "\n",
    "        return (self.S * self.Nd1) - (self.K * np.exp(- self.r * self.T) * self.Nd2)\n",
    "    \n",
    "    def calculate_put_option_price(self) -> float:\n",
    "        \"\"\"method for calculating the price of the put option. see eq. (3), in section 2, for the details of calculation.\"\"\"\n",
    "\n",
    "        return (self.K * np.exp(- self.r * self.T) * self.Nminusd2) - (self.S * self.Nminusd1)"
   ]
  },
  {
   "cell_type": "code",
   "execution_count": 4,
   "metadata": {},
   "outputs": [
    {
     "name": "stdout",
     "output_type": "stream",
     "text": [
      "\n",
      "      \n",
      "                SUMMARY OF RESULTS\n",
      "                    \n",
      "                at-the-money, american-style, straddle\n",
      "                    \n",
      "                    I.      parameters:\n",
      "                    \n",
      "                            1.  S                   = 20,\n",
      "                            2.  K                   = 20,\n",
      "                            3.  sigma               = 0.35,\n",
      "                            4.  r                   = 0.03,\n",
      "                            5.  delta               = 0.015,\n",
      "                            6.  T                   = 0.5\n",
      "\n",
      "                    II.     prices:\n",
      "                    \n",
      "                            1.  straddle            = 3.917089728206971\n",
      "                            2.  call                = 2.1074254680728597\n",
      "                            3.  put                 = 1.8096642601341113\n",
      "\n",
      "                    III.    sensitivities:\n",
      "\n",
      "                            1.  stock (delta)       = 0.5731316678172701\n",
      "                            2.  volatility (vega)   = 7.8444067009316845\n",
      "\n",
      "            \n"
     ]
    }
   ],
   "source": [
    "american_straddle = black_and_scholes(**parameters)"
   ]
  },
  {
   "attachments": {},
   "cell_type": "markdown",
   "metadata": {},
   "source": [
    "---"
   ]
  },
  {
   "attachments": {},
   "cell_type": "markdown",
   "metadata": {},
   "source": [
    "# <a id=\"3\">3. <b>Pricing a European-style At-The-Money Straddle using Black & Scholes Option Pricing Model and Monte-Carlo Simulation</b></a>"
   ]
  },
  {
   "attachments": {},
   "cell_type": "markdown",
   "metadata": {},
   "source": [
    "* When considering the straddle's pricing under a Monte-Carlo simulation scheme, the price is determined as follows:\n",
    "\n",
    "    > $\\textbf{P}_{0}(S,K,\\sigma,r,T,\\delta) = PV \\left( C_{Payoff} \\right) + PV \\left( P_{Payoff} \\right) \\textbf{(1)}$\n",
    "    >\n",
    "    > where:\n",
    "    >\n",
    "    > $\\textbf{P}$: Price of the European-style Straddle\\\n",
    "    > $C_{Payoff}$: Payoff of the European-style Long Call Option\\\n",
    "    > $P_{Payoff}$: Payoff of the European-style Long Put Option\n",
    "    \n",
    "* The payoffs of the European-style Long Call and Long Put options can be found, as follows:\n",
    "\n",
    "    > $C_{Payoff} = max \\left( 0, S_{T} - K \\right) \\textbf{(2)}$\\\n",
    "    > $P_{Payoff} = max \\left( 0, K - S_{T} \\right) \\textbf{(3)}$\n",
    "    >\n",
    "    > where:\n",
    "    >\n",
    "    > $S_{T}$: Stock price at expiration\n",
    "\n",
    "* The stock's price is a random process that follows a Geometric Brownian Motion, and can be analytically calculated, using the formula:\n",
    "\n",
    "    > $ S_{T} = S_{0} e^{ \\left( \\left( r - \\delta - \\dfrac{\\sigma^{2}}{2} \\right)T + \\sigma \\sqrt{T} Z_{T} \\right) } \\textbf{(6)}\\ $\n",
    "    >\n",
    "    > where:\n",
    "    >\n",
    "    > $Z_{T} \\sim N \\left( 0, 1 \\right) \\textbf{(7)}$: Random variable following the standard normal distribution\n",
    "\n",
    "* Given the stochastic nature of the stock's price, we can derive an estimation of the straddle's price, using a risk-neutral pricing:\n",
    "\n",
    "    > $\\textbf{P}_{0}(S,K,\\sigma,r,T,\\delta) = \\mathbb{E} \\left[ \\textbf{P} \\right] = \\mathbb{E} \\left[ PV \\left( C_{Payoff} \\right) + PV \\left( P_{Payoff} \\right) \\right] = \\mathbb{E} \\left[ PV \\left( max \\left( 0, S_{T} - K \\right) \\right) + PV \\left( max \\left( 0, K - S_{T} \\right) \\right) \\right] \\textbf{(7)}$ \n",
    "    >"
   ]
  },
  {
   "cell_type": "code",
   "execution_count": 5,
   "metadata": {},
   "outputs": [],
   "source": [
    "class monte_carlo_simulation:\n",
    "    \"\"\"class created for pricing a european-style straddle.\"\"\"\n",
    "\n",
    "    def __init__(self, N: int, **kwargs) -> None:\n",
    "        \"\"\"initialization. configuring parameters.\"\"\"\n",
    "\n",
    "        self.parameters                 = kwargs                                                                    # save given parameters\n",
    "\n",
    "        self.S0                         = kwargs[\"S\"]                                                               # current stock price\n",
    "        self.K                          = kwargs[\"K\"]                                                               # strike price\n",
    "        self.T                          = kwargs[\"T\"]                                                               # expiration\n",
    "        self.r                          = kwargs[\"r\"]                                                               # risk free rate\n",
    "        self.sigma                      = kwargs[\"sigma\"]                                                           # volatility\n",
    "        self.delta                      = kwargs[\"delta\"]                                                           # divident yield\n",
    "        self.N                          = N                                                                         # sample size (simulation)\n",
    "\n",
    "        self.Z                          = self.generate_random_numbers(N = self.N)                                  # random variable following the standard normal distribution\n",
    "        self.ST                         = self.calculate_stock_prices_at_expiration(Z = self.Z)                     # stock price at expiration\n",
    "        self.straddle_payoff            = self.calculate_straddle_payoff(ST = self.ST)                              # straddle's average payoff, given random stock prices at expiration\n",
    "        self.straddle_price             = self.calculate_straddle_price(straddle_payoff = self.straddle_payoff)     # straddle's average price is the present value of the straddle's average payoff\n",
    "\n",
    "        print(f\"\"\"\n",
    "\n",
    "                SUMMARY OF RESULTS\n",
    "            \n",
    "                at-the-money, european-style, straddle\n",
    "            \n",
    "                    I.      parameters:\n",
    "            \n",
    "                            1.  S                   = {self.S0},\n",
    "                            2.  K                   = {self.K},\n",
    "                            3.  sigma               = {self.sigma},\n",
    "                            4.  r                   = {self.r},\n",
    "                            5.  delta               = {self.delta},\n",
    "                            6.  T                   = {self.T},\n",
    "                            7.  N                   = {self.N}\n",
    "\n",
    "                    II.     simulated prices:\n",
    "            \n",
    "                            1.  straddle            = {self.straddle_price}\n",
    "\n",
    "                \"\"\")\n",
    "\n",
    "    def generate_random_numbers(self, N: int) -> np.ndarray:\n",
    "        \"\"\"generate idependent and identically distributed random numbers from the standard normal distribution\"\"\"\n",
    "        return np.expand_dims(norm.rvs(size = N), axis = -1)\n",
    "    \n",
    "    def calculate_stock_prices_at_expiration(self, Z: np.ndarray) -> np.ndarray:\n",
    "        \"\"\"calculate stock prices at expiration. see eq. (6), in section 3, for the details of calculation.\"\"\"\n",
    "        return self.S0 * np.exp(((self.r - self.delta - (self.sigma * .5)) * self.T) + (self.sigma * np.sqrt(self.T) * Z))\n",
    "\n",
    "    def calculate_straddle_payoff(self, ST: np.ndarray) -> float:\n",
    "        \"\"\"calculate straddle's payoff. see eq. (7), in section 3, for the details of calculation.\"\"\"\n",
    "\n",
    "        call_payoff = np.where(ST - self.K > 0, ST - self.K, 0)\n",
    "        put_payoff = np.where(self.K - ST > 0, self.K - ST, 0)\n",
    "        straddle_payoff = np.average(call_payoff + put_payoff)\n",
    "        \n",
    "        return float(straddle_payoff)\n",
    "    \n",
    "    def calculate_straddle_price(self, straddle_payoff: float) -> float:\n",
    "        \"\"\"calculate straddle's price, see eq. (7), in section 3, for the details of calculation.\"\"\"\n",
    "        return straddle_payoff * np.exp(- self.r * self.T)"
   ]
  },
  {
   "cell_type": "code",
   "execution_count": 6,
   "metadata": {},
   "outputs": [
    {
     "name": "stdout",
     "output_type": "stream",
     "text": [
      "\n",
      "\n",
      "                SUMMARY OF RESULTS\n",
      "            \n",
      "                at-the-money, european-style, straddle\n",
      "            \n",
      "                    I.      parameters:\n",
      "            \n",
      "                            1.  S                   = 20,\n",
      "                            2.  K                   = 20,\n",
      "                            3.  sigma               = 0.35,\n",
      "                            4.  r                   = 0.03,\n",
      "                            5.  delta               = 0.015,\n",
      "                            6.  T                   = 0.5,\n",
      "                            7.  N                   = 10000\n",
      "\n",
      "                    II.     simulated prices:\n",
      "            \n",
      "                            1.  straddle            = 3.8647363069337612\n",
      "\n",
      "                \n"
     ]
    }
   ],
   "source": [
    "european_straddle = monte_carlo_simulation(N = 10000, **parameters)"
   ]
  },
  {
   "attachments": {},
   "cell_type": "markdown",
   "metadata": {},
   "source": [
    "---\n",
    "---\n",
    "---"
   ]
  }
 ],
 "metadata": {
  "kernelspec": {
   "display_name": "AUEB_MSCDS_QFFR_PROJECT-0hjpfVlg",
   "language": "python",
   "name": "python3"
  },
  "language_info": {
   "codemirror_mode": {
    "name": "ipython",
    "version": 3
   },
   "file_extension": ".py",
   "mimetype": "text/x-python",
   "name": "python",
   "nbconvert_exporter": "python",
   "pygments_lexer": "ipython3",
   "version": "3.11.3"
  },
  "orig_nbformat": 4
 },
 "nbformat": 4,
 "nbformat_minor": 2
}
